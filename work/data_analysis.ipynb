{
 "cells": [
  {
   "cell_type": "code",
   "execution_count": 1,
   "metadata": {},
   "outputs": [],
   "source": [
    "from tqdm import tqdm\n",
    "import os\n",
    "import pandas as pd\n",
    "from sklearn.model_selection import KFold"
   ]
  },
  {
   "cell_type": "code",
   "execution_count": 2,
   "metadata": {},
   "outputs": [],
   "source": [
    "data = pd.read_csv('/root/projects/feedback_prize/data/process_data/all_train_texts_5.csv')"
   ]
  },
  {
   "cell_type": "code",
   "execution_count": 3,
   "metadata": {},
   "outputs": [
    {
     "data": {
      "text/html": [
       "<div>\n",
       "<style scoped>\n",
       "    .dataframe tbody tr th:only-of-type {\n",
       "        vertical-align: middle;\n",
       "    }\n",
       "\n",
       "    .dataframe tbody tr th {\n",
       "        vertical-align: top;\n",
       "    }\n",
       "\n",
       "    .dataframe thead th {\n",
       "        text-align: right;\n",
       "    }\n",
       "</style>\n",
       "<table border=\"1\" class=\"dataframe\">\n",
       "  <thead>\n",
       "    <tr style=\"text-align: right;\">\n",
       "      <th></th>\n",
       "      <th>Unnamed: 0</th>\n",
       "      <th>id</th>\n",
       "      <th>text</th>\n",
       "      <th>text_split</th>\n",
       "      <th>entities</th>\n",
       "      <th>fold</th>\n",
       "    </tr>\n",
       "  </thead>\n",
       "  <tbody>\n",
       "    <tr>\n",
       "      <th>0</th>\n",
       "      <td>0</td>\n",
       "      <td>0000D23A521A</td>\n",
       "      <td>Some people belive that the so called \"face\" o...</td>\n",
       "      <td>['Some', 'people', 'belive', 'that', 'the', 's...</td>\n",
       "      <td>B-Position#I-Position#I-Position#I-Position#I-...</td>\n",
       "      <td>0.0</td>\n",
       "    </tr>\n",
       "    <tr>\n",
       "      <th>1</th>\n",
       "      <td>1</td>\n",
       "      <td>00066EA9880D</td>\n",
       "      <td>Driverless cars are exaclty what you would exp...</td>\n",
       "      <td>['Driverless', 'cars', 'are', 'exaclty', 'what...</td>\n",
       "      <td>B-Lead#I-Lead#I-Lead#I-Lead#I-Lead#I-Lead#I-Le...</td>\n",
       "      <td>4.0</td>\n",
       "    </tr>\n",
       "    <tr>\n",
       "      <th>2</th>\n",
       "      <td>2</td>\n",
       "      <td>000E6DE9E817</td>\n",
       "      <td>Dear: Principal\\n\\nI am arguing against the po...</td>\n",
       "      <td>['Dear:', 'Principal', 'I', 'am', 'arguing', '...</td>\n",
       "      <td>O#O#B-Position#I-Position#I-Position#I-Positio...</td>\n",
       "      <td>3.0</td>\n",
       "    </tr>\n",
       "    <tr>\n",
       "      <th>3</th>\n",
       "      <td>3</td>\n",
       "      <td>001552828BD0</td>\n",
       "      <td>Would you be able to give your car up? Having ...</td>\n",
       "      <td>['Would', 'you', 'be', 'able', 'to', 'give', '...</td>\n",
       "      <td>B-Lead#I-Lead#I-Lead#I-Lead#I-Lead#I-Lead#I-Le...</td>\n",
       "      <td>0.0</td>\n",
       "    </tr>\n",
       "    <tr>\n",
       "      <th>4</th>\n",
       "      <td>4</td>\n",
       "      <td>0016926B079C</td>\n",
       "      <td>I think that students would benefit from learn...</td>\n",
       "      <td>['I', 'think', 'that', 'students', 'would', 'b...</td>\n",
       "      <td>B-Position#I-Position#I-Position#I-Position#I-...</td>\n",
       "      <td>4.0</td>\n",
       "    </tr>\n",
       "  </tbody>\n",
       "</table>\n",
       "</div>"
      ],
      "text/plain": [
       "   Unnamed: 0            id  \\\n",
       "0           0  0000D23A521A   \n",
       "1           1  00066EA9880D   \n",
       "2           2  000E6DE9E817   \n",
       "3           3  001552828BD0   \n",
       "4           4  0016926B079C   \n",
       "\n",
       "                                                text  \\\n",
       "0  Some people belive that the so called \"face\" o...   \n",
       "1  Driverless cars are exaclty what you would exp...   \n",
       "2  Dear: Principal\\n\\nI am arguing against the po...   \n",
       "3  Would you be able to give your car up? Having ...   \n",
       "4  I think that students would benefit from learn...   \n",
       "\n",
       "                                          text_split  \\\n",
       "0  ['Some', 'people', 'belive', 'that', 'the', 's...   \n",
       "1  ['Driverless', 'cars', 'are', 'exaclty', 'what...   \n",
       "2  ['Dear:', 'Principal', 'I', 'am', 'arguing', '...   \n",
       "3  ['Would', 'you', 'be', 'able', 'to', 'give', '...   \n",
       "4  ['I', 'think', 'that', 'students', 'would', 'b...   \n",
       "\n",
       "                                            entities  fold  \n",
       "0  B-Position#I-Position#I-Position#I-Position#I-...   0.0  \n",
       "1  B-Lead#I-Lead#I-Lead#I-Lead#I-Lead#I-Lead#I-Le...   4.0  \n",
       "2  O#O#B-Position#I-Position#I-Position#I-Positio...   3.0  \n",
       "3  B-Lead#I-Lead#I-Lead#I-Lead#I-Lead#I-Lead#I-Le...   0.0  \n",
       "4  B-Position#I-Position#I-Position#I-Position#I-...   4.0  "
      ]
     },
     "execution_count": 3,
     "metadata": {},
     "output_type": "execute_result"
    }
   ],
   "source": [
    "data.head()"
   ]
  },
  {
   "cell_type": "code",
   "execution_count": 14,
   "metadata": {},
   "outputs": [],
   "source": [
    "IGNORE_INDEX = -100\n",
    "NON_LABEL = -1\n",
    "classes = ['Lead', 'Position', 'Claim','Counterclaim', 'Rebuttal','Evidence','Concluding Statement']\n",
    "OUTPUT_LABELS = ['O', 'B-Lead', 'I-Lead', 'B-Position', 'I-Position', 'B-Claim', 'I-Claim', 'B-Counterclaim', 'I-Counterclaim', \n",
    "                 'B-Rebuttal', 'I-Rebuttal', 'B-Evidence', 'I-Evidence', 'B-Concluding Statement', 'I-Concluding Statement']\n",
    "LABELS_TO_IDS = {v:k for k,v in enumerate(OUTPUT_LABELS)}\n",
    "IDS_TO_LABELS = {k:v for k,v in enumerate(OUTPUT_LABELS)}"
   ]
  },
  {
   "cell_type": "code",
   "execution_count": 15,
   "metadata": {},
   "outputs": [
    {
     "name": "stdout",
     "output_type": "stream",
     "text": [
      "{'O': 0, 'B-Lead': 1, 'I-Lead': 2, 'B-Position': 3, 'I-Position': 4, 'B-Claim': 5, 'I-Claim': 6, 'B-Counterclaim': 7, 'I-Counterclaim': 8, 'B-Rebuttal': 9, 'I-Rebuttal': 10, 'B-Evidence': 11, 'I-Evidence': 12, 'B-Concluding Statement': 13, 'I-Concluding Statement': 14}\n"
     ]
    }
   ],
   "source": [
    "print(LABELS_TO_IDS)"
   ]
  },
  {
   "cell_type": "code",
   "execution_count": 16,
   "metadata": {},
   "outputs": [
    {
     "name": "stdout",
     "output_type": "stream",
     "text": [
      "{0: 'O', 1: 'B-Lead', 2: 'I-Lead', 3: 'B-Position', 4: 'I-Position', 5: 'B-Claim', 6: 'I-Claim', 7: 'B-Counterclaim', 8: 'I-Counterclaim', 9: 'B-Rebuttal', 10: 'I-Rebuttal', 11: 'B-Evidence', 12: 'I-Evidence', 13: 'B-Concluding Statement', 14: 'I-Concluding Statement'}\n"
     ]
    }
   ],
   "source": [
    "print(IDS_TO_LABELS)"
   ]
  },
  {
   "cell_type": "code",
   "execution_count": 17,
   "metadata": {},
   "outputs": [],
   "source": [
    "def agg_essays(train_flg, data_dir):\n",
    "    folder = 'train' if train_flg else 'test'\n",
    "    names, texts =[], []\n",
    "    for f in tqdm(list(os.listdir(f'{data_dir}/{folder}'))):\n",
    "        names.append(f.replace('.txt', ''))\n",
    "        texts.append(open(f'{data_dir}/{folder}/' + f, 'r').read())\n",
    "        df_texts = pd.DataFrame({'id': names, 'text': texts})\n",
    "\n",
    "    df_texts['text_split'] = df_texts.text.str.split()\n",
    "    print('Completed tokenizing texts.')\n",
    "    return df_texts"
   ]
  },
  {
   "cell_type": "code",
   "execution_count": 18,
   "metadata": {},
   "outputs": [],
   "source": [
    "def ner(df_texts, df_train):\n",
    "    all_entities = []\n",
    "    for _,  row in tqdm(df_texts.iterrows(), total=len(df_texts)):\n",
    "        total = len(row['text_split'])\n",
    "        entities = ['O'] * total\n",
    "        for _, row2 in df_train[df_train['id'] == row['id']].iterrows():\n",
    "            discourse = row2['discourse_type']\n",
    "            list_ix = [int(x) for x in row2['predictionstring'].split(' ')]\n",
    "            entities[list_ix[0]] = f'B-{discourse}'\n",
    "            for k in list_ix[1:]: \n",
    "                entities[k] = f'I-{discourse}'\n",
    "            entities_str = '#'.join(entities)\n",
    "        all_entities.append(entities_str)\n",
    "\n",
    "    df_texts['entities'] = all_entities\n",
    "    print('Completed mapping discourse to each token.')\n",
    "    return df_texts"
   ]
  },
  {
   "cell_type": "code",
   "execution_count": 19,
   "metadata": {},
   "outputs": [],
   "source": [
    "def preprocess(data_dir, df_train = None, remove_wrong_labels=True):\n",
    "    if df_train is None:\n",
    "        train_flg = False\n",
    "    else:\n",
    "        train_flg = True\n",
    "    \n",
    "    df_texts = agg_essays(train_flg, data_dir)\n",
    "\n",
    "    if train_flg:\n",
    "        # if remove_wrong_labels:\n",
    "        #     for wrong_id in wrong_label_discourse_ids:\n",
    "        #         df_train = df_train.drop(index=(df_train.loc[df_train['discourse_id'] == wrong_id].index))\n",
    "            \n",
    "        df_texts = ner(df_texts, df_train)\n",
    "        \n",
    "    return df_texts"
   ]
  },
  {
   "cell_type": "code",
   "execution_count": 20,
   "metadata": {},
   "outputs": [
    {
     "name": "stderr",
     "output_type": "stream",
     "text": [
      "100%|██████████| 15594/15594 [00:20<00:00, 754.40it/s]\n"
     ]
    },
    {
     "name": "stdout",
     "output_type": "stream",
     "text": [
      "Completed tokenizing texts.\n"
     ]
    },
    {
     "name": "stderr",
     "output_type": "stream",
     "text": [
      "100%|██████████| 15594/15594 [01:52<00:00, 138.62it/s]"
     ]
    },
    {
     "name": "stdout",
     "output_type": "stream",
     "text": [
      "Completed mapping discourse to each token.\n"
     ]
    },
    {
     "name": "stderr",
     "output_type": "stream",
     "text": [
      "\n"
     ]
    }
   ],
   "source": [
    "data_dir = '/root/projects/feedback_prize/data'\n",
    "df_train = pd.read_csv('/root/projects/feedback_prize/data/train.csv')\n",
    "train_texts = preprocess(data_dir,df_train)"
   ]
  },
  {
   "cell_type": "code",
   "execution_count": 21,
   "metadata": {},
   "outputs": [
    {
     "data": {
      "text/html": [
       "<div>\n",
       "<style scoped>\n",
       "    .dataframe tbody tr th:only-of-type {\n",
       "        vertical-align: middle;\n",
       "    }\n",
       "\n",
       "    .dataframe tbody tr th {\n",
       "        vertical-align: top;\n",
       "    }\n",
       "\n",
       "    .dataframe thead th {\n",
       "        text-align: right;\n",
       "    }\n",
       "</style>\n",
       "<table border=\"1\" class=\"dataframe\">\n",
       "  <thead>\n",
       "    <tr style=\"text-align: right;\">\n",
       "      <th></th>\n",
       "      <th>id</th>\n",
       "      <th>text</th>\n",
       "      <th>text_split</th>\n",
       "      <th>entities</th>\n",
       "    </tr>\n",
       "  </thead>\n",
       "  <tbody>\n",
       "    <tr>\n",
       "      <th>0</th>\n",
       "      <td>0000D23A521A</td>\n",
       "      <td>Some people belive that the so called \"face\" o...</td>\n",
       "      <td>[Some, people, belive, that, the, so, called, ...</td>\n",
       "      <td>B-Position#I-Position#I-Position#I-Position#I-...</td>\n",
       "    </tr>\n",
       "    <tr>\n",
       "      <th>1</th>\n",
       "      <td>00066EA9880D</td>\n",
       "      <td>Driverless cars are exaclty what you would exp...</td>\n",
       "      <td>[Driverless, cars, are, exaclty, what, you, wo...</td>\n",
       "      <td>B-Lead#I-Lead#I-Lead#I-Lead#I-Lead#I-Lead#I-Le...</td>\n",
       "    </tr>\n",
       "    <tr>\n",
       "      <th>2</th>\n",
       "      <td>000E6DE9E817</td>\n",
       "      <td>Dear: Principal\\n\\nI am arguing against the po...</td>\n",
       "      <td>[Dear:, Principal, I, am, arguing, against, th...</td>\n",
       "      <td>O#O#B-Position#I-Position#I-Position#I-Positio...</td>\n",
       "    </tr>\n",
       "    <tr>\n",
       "      <th>3</th>\n",
       "      <td>001552828BD0</td>\n",
       "      <td>Would you be able to give your car up? Having ...</td>\n",
       "      <td>[Would, you, be, able, to, give, your, car, up...</td>\n",
       "      <td>B-Lead#I-Lead#I-Lead#I-Lead#I-Lead#I-Lead#I-Le...</td>\n",
       "    </tr>\n",
       "    <tr>\n",
       "      <th>4</th>\n",
       "      <td>0016926B079C</td>\n",
       "      <td>I think that students would benefit from learn...</td>\n",
       "      <td>[I, think, that, students, would, benefit, fro...</td>\n",
       "      <td>B-Position#I-Position#I-Position#I-Position#I-...</td>\n",
       "    </tr>\n",
       "  </tbody>\n",
       "</table>\n",
       "</div>"
      ],
      "text/plain": [
       "             id                                               text  \\\n",
       "0  0000D23A521A  Some people belive that the so called \"face\" o...   \n",
       "1  00066EA9880D  Driverless cars are exaclty what you would exp...   \n",
       "2  000E6DE9E817  Dear: Principal\\n\\nI am arguing against the po...   \n",
       "3  001552828BD0  Would you be able to give your car up? Having ...   \n",
       "4  0016926B079C  I think that students would benefit from learn...   \n",
       "\n",
       "                                          text_split  \\\n",
       "0  [Some, people, belive, that, the, so, called, ...   \n",
       "1  [Driverless, cars, are, exaclty, what, you, wo...   \n",
       "2  [Dear:, Principal, I, am, arguing, against, th...   \n",
       "3  [Would, you, be, able, to, give, your, car, up...   \n",
       "4  [I, think, that, students, would, benefit, fro...   \n",
       "\n",
       "                                            entities  \n",
       "0  B-Position#I-Position#I-Position#I-Position#I-...  \n",
       "1  B-Lead#I-Lead#I-Lead#I-Lead#I-Lead#I-Lead#I-Le...  \n",
       "2  O#O#B-Position#I-Position#I-Position#I-Positio...  \n",
       "3  B-Lead#I-Lead#I-Lead#I-Lead#I-Lead#I-Lead#I-Le...  \n",
       "4  B-Position#I-Position#I-Position#I-Position#I-...  "
      ]
     },
     "execution_count": 21,
     "metadata": {},
     "output_type": "execute_result"
    }
   ],
   "source": [
    "train_texts.head()"
   ]
  },
  {
   "cell_type": "code",
   "execution_count": 22,
   "metadata": {},
   "outputs": [],
   "source": [
    "ids = train_texts['id'].unique()"
   ]
  },
  {
   "cell_type": "code",
   "execution_count": 24,
   "metadata": {},
   "outputs": [],
   "source": [
    "kf = KFold(n_splits=5, shuffle = True, random_state=42)"
   ]
  },
  {
   "cell_type": "code",
   "execution_count": 45,
   "metadata": {},
   "outputs": [],
   "source": [
    "ka = kf.split(ids)"
   ]
  },
  {
   "cell_type": "code",
   "execution_count": 46,
   "metadata": {},
   "outputs": [
    {
     "name": "stdout",
     "output_type": "stream",
     "text": [
      "0\n",
      "12475\n",
      "3119\n",
      "0\n",
      "12475\n",
      "3119\n",
      "0\n",
      "12475\n",
      "3119\n",
      "0\n",
      "12475\n",
      "3119\n",
      "0\n",
      "12476\n",
      "3118\n"
     ]
    }
   ],
   "source": [
    "j = -1\n",
    "for i in ka:\n",
    "    print(j + 1)\n",
    "    print(len(i[0]))\n",
    "    print(len(i[1]))"
   ]
  },
  {
   "cell_type": "code",
   "execution_count": 35,
   "metadata": {},
   "outputs": [
    {
     "name": "stdout",
     "output_type": "stream",
     "text": [
      "[    1     2     4 ... 15590 15591 15593]\n",
      "[    0     1     2 ... 15591 15592 15593]\n",
      "[    0     1     2 ... 15588 15591 15592]\n",
      "[    0     1     3 ... 15591 15592 15593]\n",
      "[    0     2     3 ... 15590 15592 15593]\n"
     ]
    }
   ],
   "source": [
    "for i_fold, (_, valid_index) in enumerate(kf.split(ids)):\n",
    "    print(_)\n",
    "    df_train.loc[valid_index,'fold'] = i_fold"
   ]
  },
  {
   "cell_type": "code",
   "execution_count": null,
   "metadata": {},
   "outputs": [],
   "source": []
  }
 ],
 "metadata": {
  "interpreter": {
   "hash": "37a7c3a38c2b90713e212e3fa2789a8644da8e074c81b306c986ba72f507d4e3"
  },
  "kernelspec": {
   "display_name": "Python 3.9.7 ('feedback')",
   "language": "python",
   "name": "python3"
  },
  "language_info": {
   "codemirror_mode": {
    "name": "ipython",
    "version": 3
   },
   "file_extension": ".py",
   "mimetype": "text/x-python",
   "name": "python",
   "nbconvert_exporter": "python",
   "pygments_lexer": "ipython3",
   "version": "3.9.7"
  },
  "orig_nbformat": 4
 },
 "nbformat": 4,
 "nbformat_minor": 2
}
